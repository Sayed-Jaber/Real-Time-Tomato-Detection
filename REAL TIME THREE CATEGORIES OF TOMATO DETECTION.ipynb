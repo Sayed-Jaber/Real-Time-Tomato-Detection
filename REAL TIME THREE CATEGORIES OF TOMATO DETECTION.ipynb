{
 "cells": [
  {
   "cell_type": "code",
   "execution_count": 1,
   "id": "6aa222fe",
   "metadata": {},
   "outputs": [],
   "source": [
    "import cv2\n",
    "import numpy as np"
   ]
  },
  {
   "cell_type": "code",
   "execution_count": 2,
   "id": "87a65a3c",
   "metadata": {},
   "outputs": [],
   "source": [
    "from PIL import Image"
   ]
  },
  {
   "cell_type": "code",
   "execution_count": 3,
   "id": "999b8482",
   "metadata": {},
   "outputs": [],
   "source": [
    "cap= cv2.VideoCapture(0)"
   ]
  },
  {
   "cell_type": "code",
   "execution_count": null,
   "id": "1882c3ef",
   "metadata": {},
   "outputs": [],
   "source": [
    "while True:\n",
    "    _, frame = cap.read()\n",
    "    hsv_frame = cv2.cvtColor(frame, cv2.COLOR_BGR2HSV)\n",
    "    # Red tomato color detection\n",
    "    # lower boundary RED color range values; Hue (0 - 10)\n",
    "    lower1 = np.array([0, 215, 140])\n",
    "    upper1 = np.array([15, 230, 205])\n",
    "    # upper boundary RED color range values; Hue (160 - 180)\n",
    "    lower2 = np.array([175,225,140])\n",
    "    upper2 = np.array([179,240,205])\n",
    "    lower_mask = cv2.inRange(hsv_frame, lower1, upper1)\n",
    "    upper_mask = cv2.inRange(hsv_frame, lower2, upper2)\n",
    "    full_mask = lower_mask + upper_mask;\n",
    "    mask_ = Image.fromarray(full_mask)\n",
    "    bbox = mask_.getbbox()\n",
    "    if bbox is not None:\n",
    "        x1, y1, x2, y2 = bbox\n",
    "        frame = cv2.rectangle(frame, (x1, y1), (x2, y2), (0, 255, 0), 5)\n",
    "        \n",
    "    red = cv2.bitwise_and(frame, frame, mask=full_mask)\n",
    "    cv2.imshow(\"Frame\", frame)\n",
    "    cv2.imshow(\"Red\", red)\n",
    "    key = cv2.waitKey(1)\n",
    "    if key == 27:\n",
    "        break"
   ]
  },
  {
   "cell_type": "code",
   "execution_count": null,
   "id": "0f28340a",
   "metadata": {},
   "outputs": [],
   "source": [
    "while True:\n",
    "    _, frame = cap.read()\n",
    "    hsv_frame = cv2.cvtColor(frame, cv2.COLOR_BGR2HSV)\n",
    "        # semi Red tomato detection\n",
    "    low_red = np.array([15, 228, 130])\n",
    "    high_red = np.array([30, 242, 165])\n",
    "    red_mask = cv2.inRange(hsv_frame, low_red, high_red)\n",
    "    mask_ = Image.fromarray(red_mask)\n",
    "    bbox = mask_.getbbox()\n",
    "    if bbox is not None:\n",
    "        x1, y1, x2, y2 = bbox\n",
    "        frame = cv2.rectangle(frame, (x1, y1), (x2, y2), (0, 255, 0), 5)\n",
    "        \n",
    "    red = cv2.bitwise_and(frame, frame, mask=red_mask)\n",
    "    cv2.imshow(\"Frame\", frame)\n",
    "    cv2.imshow(\"Red\", red)\n",
    "    key = cv2.waitKey(1)\n",
    "    if key == 27:\n",
    "        break"
   ]
  },
  {
   "cell_type": "code",
   "execution_count": null,
   "id": "e5371d85",
   "metadata": {},
   "outputs": [],
   "source": [
    "while True:\n",
    "    _, frame = cap.read()\n",
    "    hsv_frame = cv2.cvtColor(frame, cv2.COLOR_BGR2HSV)\n",
    "        # green tomato detection\n",
    "    low_red = np.array([31, 178, 65])\n",
    "    high_red = np.array([75, 204, 127])\n",
    "    red_mask = cv2.inRange(hsv_frame, low_red, high_red)\n",
    "    mask_ = Image.fromarray(red_mask)\n",
    "    bbox = mask_.getbbox()\n",
    "    if bbox is not None:\n",
    "        x1, y1, x2, y2 = bbox\n",
    "        frame = cv2.rectangle(frame, (x1, y1), (x2, y2), (0, 255, 0), 5)\n",
    "        \n",
    "    red = cv2.bitwise_and(frame, frame, mask=red_mask)\n",
    "    cv2.imshow(\"Frame\", frame)\n",
    "    cv2.imshow(\"Red\", red)\n",
    "    key = cv2.waitKey(1)\n",
    "    if key == 27:\n",
    "        break"
   ]
  },
  {
   "cell_type": "code",
   "execution_count": null,
   "id": "9fd4dd86",
   "metadata": {},
   "outputs": [],
   "source": []
  }
 ],
 "metadata": {
  "kernelspec": {
   "display_name": "Python 3 (ipykernel)",
   "language": "python",
   "name": "python3"
  },
  "language_info": {
   "codemirror_mode": {
    "name": "ipython",
    "version": 3
   },
   "file_extension": ".py",
   "mimetype": "text/x-python",
   "name": "python",
   "nbconvert_exporter": "python",
   "pygments_lexer": "ipython3",
   "version": "3.10.9"
  }
 },
 "nbformat": 4,
 "nbformat_minor": 5
}
